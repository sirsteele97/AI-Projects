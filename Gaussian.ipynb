{
  "nbformat": 4,
  "nbformat_minor": 0,
  "metadata": {
    "colab": {
      "name": "Gaussian.ipynb",
      "provenance": [],
      "collapsed_sections": [],
      "authorship_tag": "ABX9TyPoxMBZ9dCj8vBPRJh13yq4",
      "include_colab_link": true
    },
    "kernelspec": {
      "name": "python3",
      "display_name": "Python 3"
    }
  },
  "cells": [
    {
      "cell_type": "markdown",
      "metadata": {
        "id": "view-in-github",
        "colab_type": "text"
      },
      "source": [
        "<a href=\"https://colab.research.google.com/github/sirsteele97/AI-Projects/blob/master/Gaussian.ipynb\" target=\"_parent\"><img src=\"https://colab.research.google.com/assets/colab-badge.svg\" alt=\"Open In Colab\"/></a>"
      ]
    },
    {
      "cell_type": "code",
      "metadata": {
        "id": "6cnWKNaiqscU",
        "colab_type": "code",
        "colab": {}
      },
      "source": [
        "import matplotlib.pyplot as plt\n",
        "from sklearn.neighbors import NearestNeighbors\n",
        "import numpy as np\n",
        "from sklearn.neighbors import KNeighborsClassifier\n",
        "from sklearn.preprocessing import StandardScaler\n",
        "import random\n",
        "from random import seed\n",
        "from random import random\n",
        "\n",
        "seed(1)\n",
        "\n",
        "value = random()\n",
        "\n",
        "def calculate(p):\n",
        "  import numpy as np\n",
        "  mean = [0, 0]\n",
        "  mean2 = [3, 0]\n",
        "  cov = []\n",
        "      \n",
        "  if(value>.5):\n",
        "    cov = [[1, 0], [0, 1]]\n",
        "    x, y = np.random.multivariate_normal(mean, cov, 3000).T\n",
        "  else:\n",
        "    cov = [[p, 0], [0, p]]\n",
        "    x, y = np.random.multivariate_normal(mean2, cov, 3000).T\n",
        "  \n",
        "  from sklearn.model_selection import train_test_split\n",
        "\n",
        "  # create design matrix X and target vector y\n",
        "  a = np.array(x)\n",
        "  a = a[:,None]\n",
        "  b = np.array(y)\n",
        "  b = b[:,None]\n",
        "  X = np.concatenate([a, b], axis=1)\n",
        "  c = np.arange(0, 3000)\n",
        "  Y = c\n",
        "\n",
        "  X_train, X_test, y_train, y_test = train_test_split(X, Y, test_size=0.33, random_state=42)\n",
        "  \n",
        "\n",
        "  from sklearn.neighbors import KNeighborsClassifier\n",
        "  from sklearn.metrics import accuracy_score\n",
        "\n",
        "  knn = KNeighborsClassifier(n_neighbors=3)\n",
        "  knn.fit(X_train, y_train[:,])\n",
        "  prediction = knn.predict(X_test)\n",
        "\n",
        "  final_X = []\n",
        "  final_Y = []\n",
        "  for i in prediction:\n",
        "    final_X.append(X[i][0])\n",
        "    final_Y.append(X[i][1])\n",
        "\n",
        "  test_X = []\n",
        "  test_Y = []\n",
        "  for i in y_test:\n",
        "    test_X.append(X[i][0])\n",
        "    test_Y.append(X[i][1])\n",
        "\n",
        "  knn = KNeighborsClassifier(n_neighbors=1)\n",
        "  knn.fit(X_train, y_train[:,])\n",
        "  prediction = knn.predict(X_test)\n",
        "\n",
        "  Sum = 0\n",
        "  for i in range(0, len(test_Y)):\n",
        "    Sum = Sum + (test_Y[i] - final_Y[i])\n",
        "\n",
        "  error1 = (1/len(test_X)*Sum)\n",
        "\n",
        "  final_X = []\n",
        "  final_Y = []\n",
        "  for i in prediction:\n",
        "    final_X.append(X[i][0])\n",
        "    final_Y.append(X[i][1])\n",
        "\n",
        "  test_X = []\n",
        "  test_Y = []\n",
        "  for i in y_test:\n",
        "    test_X.append(X[i][0])\n",
        "    test_Y.append(X[i][1])\n",
        "\n",
        "  Sum = 0\n",
        "\n",
        "  for i in range(0, len(test_Y)):\n",
        "    Sum = Sum + (test_Y[i] - final_Y[i])\n",
        "\n",
        "  error2 = (1/len(test_X)*Sum)\n",
        "\n",
        "  return error1, error2"
      ],
      "execution_count": 0,
      "outputs": []
    },
    {
      "cell_type": "code",
      "metadata": {
        "id": "6psGW4DVItiE",
        "colab_type": "code",
        "colab": {
          "base_uri": "https://localhost:8080/",
          "height": 284
        },
        "outputId": "632d5e20-8af7-47b4-bd0c-b81e50f5e2f0"
      },
      "source": [
        "\n",
        "\n",
        "p = 1\n",
        "NN1Error = []\n",
        "NN3Error = []\n",
        "yaxis = []\n",
        "while p < 102:\n",
        "  x ,y = calculate(p)\n",
        "  NN1Error.append(x)\n",
        "  NN3Error.append(y)\n",
        "  yaxis.append(p)\n",
        "  p = p + 10\n",
        "\n",
        "plt.new_figure_manager\n",
        "plt.plot(yaxis, np.abs(NN1Error))\n",
        "plt.plot(yaxis, np.abs(NN3Error))\n",
        "plt.legend((\"NN1Error\", \"NN3Error\"))\n",
        "plt.show"
      ],
      "execution_count": 99,
      "outputs": [
        {
          "output_type": "execute_result",
          "data": {
            "text/plain": [
              "<function matplotlib.pyplot.show>"
            ]
          },
          "metadata": {
            "tags": []
          },
          "execution_count": 99
        },
        {
          "output_type": "display_data",
          "data": {
            "image/png": "[encoded data removed]",
            "text/plain": [
              "<Figure size 432x288 with 1 Axes>"
            ]
          },
          "metadata": {
            "tags": []
          }
        }
      ]
    }
  ]
}